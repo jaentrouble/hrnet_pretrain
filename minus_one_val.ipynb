{
 "metadata": {
  "language_info": {
   "codemirror_mode": {
    "name": "ipython",
    "version": 3
   },
   "file_extension": ".py",
   "mimetype": "text/x-python",
   "name": "python",
   "nbconvert_exporter": "python",
   "pygments_lexer": "ipython3",
   "version": "3.7.8-final"
  },
  "orig_nbformat": 2,
  "kernelspec": {
   "name": "python_defaultSpec_1600274733534",
   "display_name": "Python 3.7.8 64-bit ('env': venv)"
  }
 },
 "nbformat": 4,
 "nbformat_minor": 2,
 "cells": [
  {
   "cell_type": "code",
   "execution_count": 1,
   "metadata": {},
   "outputs": [],
   "source": [
    "import json\n",
    "with open('val_label.json','r') as f:\n",
    "    val_label = json.load(f)\n",
    "for i in range(len(val_label)):\n",
    "    val_label[i] -= 1\n",
    "with open('val_label_zero.json','w') as f:\n",
    "    json.dump(val_label,f)"
   ]
  }
 ]
}