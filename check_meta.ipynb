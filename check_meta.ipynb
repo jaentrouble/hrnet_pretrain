{
 "metadata": {
  "language_info": {
   "codemirror_mode": {
    "name": "ipython",
    "version": 3
   },
   "file_extension": ".py",
   "mimetype": "text/x-python",
   "name": "python",
   "nbconvert_exporter": "python",
   "pygments_lexer": "ipython3",
   "version": "3.7.8-final"
  },
  "orig_nbformat": 2,
  "kernelspec": {
   "name": "hrnet",
   "display_name": "hrnet"
  }
 },
 "nbformat": 4,
 "nbformat_minor": 2,
 "cells": [
  {
   "cell_type": "code",
   "execution_count": 1,
   "metadata": {},
   "outputs": [],
   "source": [
    "import os"
   ]
  },
  {
   "cell_type": "code",
   "execution_count": 2,
   "metadata": {
    "tags": []
   },
   "outputs": [
    {
     "output_type": "stream",
     "name": "stdout",
     "text": "/home/jaentrouble/hrnet_pretrain\n"
    }
   ],
   "source": [
    "os.chdir('/home/jaentrouble/hrnet_pretrain')\n",
    "print(os.getcwd())"
   ]
  },
  {
   "cell_type": "code",
   "execution_count": 3,
   "metadata": {},
   "outputs": [],
   "source": [
    "img_names = os.listdir('/home/jaentrouble/data/imagenet/train')"
   ]
  },
  {
   "cell_type": "code",
   "execution_count": 4,
   "metadata": {
    "tags": []
   },
   "outputs": [
    {
     "output_type": "stream",
     "name": "stdout",
     "text": "['n04285008', '10791.JPEG']\n"
    }
   ],
   "source": [
    "print(img_names[0].split('_'))"
   ]
  },
  {
   "cell_type": "code",
   "execution_count": 5,
   "metadata": {
    "tags": []
   },
   "outputs": [
    {
     "output_type": "stream",
     "name": "stdout",
     "text": "Already up to date.\n"
    }
   ],
   "source": [
    "!git pull"
   ]
  },
  {
   "cell_type": "code",
   "execution_count": 6,
   "metadata": {},
   "outputs": [],
   "source": [
    "import json\n",
    "with open('meta.json','r') as f:\n",
    "    metadata = json.load(f)"
   ]
  },
  {
   "cell_type": "code",
   "execution_count": 7,
   "metadata": {},
   "outputs": [],
   "source": [
    "label_indices = []\n",
    "for n in img_names:\n",
    "    label, _ = n.split('_')\n",
    "    label_indices.append(metadata[label])"
   ]
  },
  {
   "cell_type": "code",
   "execution_count": 8,
   "metadata": {
    "tags": []
   },
   "outputs": [
    {
     "output_type": "stream",
     "name": "stdout",
     "text": "999\n0\n"
    }
   ],
   "source": [
    "print(max(label_indices))\n",
    "print(min(label_indices))"
   ]
  },
  {
   "cell_type": "code",
   "execution_count": 9,
   "metadata": {},
   "outputs": [],
   "source": [
    "import imageio\n",
    "import cv2\n",
    "import numpy as np"
   ]
  },
  {
   "cell_type": "code",
   "execution_count": 10,
   "metadata": {},
   "outputs": [],
   "source": [
    "img_dir = '/home/jaentrouble/data/imagenet/train'"
   ]
  },
  {
   "cell_type": "code",
   "execution_count": 11,
   "metadata": {},
   "outputs": [],
   "source": [
    "import time"
   ]
  },
  {
   "cell_type": "code",
   "execution_count": 12,
   "metadata": {
    "tags": []
   },
   "outputs": [
    {
     "output_type": "stream",
     "name": "stderr",
     "text": "/home/jaentrouble/hrnet_pretrain/env/lib/python3.7/site-packages/PIL/TiffImagePlugin.py:785: UserWarning: Corrupt EXIF data.  Expecting to read 4 bytes but only got 0. \n  warnings.warn(str(msg))\nimageio : 3.4687063694000244\ncv2 with bgr2rgb : 3.523066759109497\n"
    }
   ],
   "source": [
    "st = time.time()\n",
    "dummy = []\n",
    "for n in img_names[:1000]:\n",
    "    sample_img = imageio.imread(img_dir+'/'+n)\n",
    "    dummy.append(sample_img)\n",
    "print(f'imageio : {time.time()-st}')\n",
    "dummy2 = []\n",
    "st = time.time()\n",
    "for n in img_names[:1000]:\n",
    "    sample_img = cv2.cvtColor(cv2.imread(img_dir+'/'+n),cv2.COLOR_BGR2RGB)\n",
    "    dummy2.append(sample_img)\n",
    "print(f'cv2 with bgr2rgb : {time.time()-st}')"
   ]
  }
 ]
}